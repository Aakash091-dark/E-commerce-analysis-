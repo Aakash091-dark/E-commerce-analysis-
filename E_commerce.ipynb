{
  "nbformat": 4,
  "nbformat_minor": 0,
  "metadata": {
    "colab": {
      "provenance": [],
      "gpuType": "T4"
    },
    "kernelspec": {
      "name": "python3",
      "display_name": "Python 3"
    },
    "language_info": {
      "name": "python"
    },
    "accelerator": "GPU"
  },
  "cells": [
    {
      "cell_type": "code",
      "execution_count": 1,
      "metadata": {
        "id": "19SnlWmYpM7-"
      },
      "outputs": [],
      "source": [
        "import pandas as pd"
      ]
    },
    {
      "cell_type": "code",
      "source": [
        "data_path = \"/content/train_data.csv\"\n",
        "data = pd.read_csv(data_path)"
      ],
      "metadata": {
        "id": "-QZNIENwpwaP"
      },
      "execution_count": 2,
      "outputs": []
    },
    {
      "cell_type": "code",
      "source": [
        "print(\"Training Data Snapshot:\")\n",
        "display(data.head())"
      ],
      "metadata": {
        "colab": {
          "base_uri": "https://localhost:8080/",
          "height": 418
        },
        "id": "ilNrP5tRqwfY",
        "outputId": "c42eefc8-287b-42f6-ee56-66032801b989"
      },
      "execution_count": 3,
      "outputs": [
        {
          "output_type": "stream",
          "name": "stdout",
          "text": [
            "Training Data Snapshot:\n"
          ]
        },
        {
          "output_type": "display_data",
          "data": {
            "text/plain": [
              "             Name Brand Categories PrimaryCategories Reviews.Date  \\\n",
              "0       Gaming HP    HP  Computers            Gaming   2024-01-08   \n",
              "1    Laptops Sony  Sony  Computers           Laptops   2024-05-26   \n",
              "2  Microphones LG    LG      Audio       Microphones   2024-01-18   \n",
              "3     Tables Dell  Dell  Furniture            Tables   2024-11-01   \n",
              "4       Gaming HP    HP  Computers            Gaming   2024-11-16   \n",
              "\n",
              "             Reviews.Text     Reviews.Title Sentiment  \\\n",
              "0    Mediocre experience.           Average   Neutral   \n",
              "1      Worth every penny.     Fantastic Buy  Positive   \n",
              "2  Exceeded expectations.  Highly Recommend  Positive   \n",
              "3        Amazing quality!     Great Product  Positive   \n",
              "4              It's fine.         It's okay   Neutral   \n",
              "\n",
              "                               Full_Review  Sentiment_Score Sentiment_Category  \n",
              "0             Mediocre experience. Average             0.42            Neutral  \n",
              "1         Worth every penny. Fantastic Buy             0.94           Positive  \n",
              "2  Exceeded expectations. Highly Recommend             0.91           Positive  \n",
              "3           Amazing quality! Great Product             0.92           Positive  \n",
              "4                     It's fine. It's okay             0.40            Neutral  "
            ],
            "text/html": [
              "\n",
              "  <div id=\"df-bf8ebdcb-9429-456a-aec4-349700c30cac\" class=\"colab-df-container\">\n",
              "    <div>\n",
              "<style scoped>\n",
              "    .dataframe tbody tr th:only-of-type {\n",
              "        vertical-align: middle;\n",
              "    }\n",
              "\n",
              "    .dataframe tbody tr th {\n",
              "        vertical-align: top;\n",
              "    }\n",
              "\n",
              "    .dataframe thead th {\n",
              "        text-align: right;\n",
              "    }\n",
              "</style>\n",
              "<table border=\"1\" class=\"dataframe\">\n",
              "  <thead>\n",
              "    <tr style=\"text-align: right;\">\n",
              "      <th></th>\n",
              "      <th>Name</th>\n",
              "      <th>Brand</th>\n",
              "      <th>Categories</th>\n",
              "      <th>PrimaryCategories</th>\n",
              "      <th>Reviews.Date</th>\n",
              "      <th>Reviews.Text</th>\n",
              "      <th>Reviews.Title</th>\n",
              "      <th>Sentiment</th>\n",
              "      <th>Full_Review</th>\n",
              "      <th>Sentiment_Score</th>\n",
              "      <th>Sentiment_Category</th>\n",
              "    </tr>\n",
              "  </thead>\n",
              "  <tbody>\n",
              "    <tr>\n",
              "      <th>0</th>\n",
              "      <td>Gaming HP</td>\n",
              "      <td>HP</td>\n",
              "      <td>Computers</td>\n",
              "      <td>Gaming</td>\n",
              "      <td>2024-01-08</td>\n",
              "      <td>Mediocre experience.</td>\n",
              "      <td>Average</td>\n",
              "      <td>Neutral</td>\n",
              "      <td>Mediocre experience. Average</td>\n",
              "      <td>0.42</td>\n",
              "      <td>Neutral</td>\n",
              "    </tr>\n",
              "    <tr>\n",
              "      <th>1</th>\n",
              "      <td>Laptops Sony</td>\n",
              "      <td>Sony</td>\n",
              "      <td>Computers</td>\n",
              "      <td>Laptops</td>\n",
              "      <td>2024-05-26</td>\n",
              "      <td>Worth every penny.</td>\n",
              "      <td>Fantastic Buy</td>\n",
              "      <td>Positive</td>\n",
              "      <td>Worth every penny. Fantastic Buy</td>\n",
              "      <td>0.94</td>\n",
              "      <td>Positive</td>\n",
              "    </tr>\n",
              "    <tr>\n",
              "      <th>2</th>\n",
              "      <td>Microphones LG</td>\n",
              "      <td>LG</td>\n",
              "      <td>Audio</td>\n",
              "      <td>Microphones</td>\n",
              "      <td>2024-01-18</td>\n",
              "      <td>Exceeded expectations.</td>\n",
              "      <td>Highly Recommend</td>\n",
              "      <td>Positive</td>\n",
              "      <td>Exceeded expectations. Highly Recommend</td>\n",
              "      <td>0.91</td>\n",
              "      <td>Positive</td>\n",
              "    </tr>\n",
              "    <tr>\n",
              "      <th>3</th>\n",
              "      <td>Tables Dell</td>\n",
              "      <td>Dell</td>\n",
              "      <td>Furniture</td>\n",
              "      <td>Tables</td>\n",
              "      <td>2024-11-01</td>\n",
              "      <td>Amazing quality!</td>\n",
              "      <td>Great Product</td>\n",
              "      <td>Positive</td>\n",
              "      <td>Amazing quality! Great Product</td>\n",
              "      <td>0.92</td>\n",
              "      <td>Positive</td>\n",
              "    </tr>\n",
              "    <tr>\n",
              "      <th>4</th>\n",
              "      <td>Gaming HP</td>\n",
              "      <td>HP</td>\n",
              "      <td>Computers</td>\n",
              "      <td>Gaming</td>\n",
              "      <td>2024-11-16</td>\n",
              "      <td>It's fine.</td>\n",
              "      <td>It's okay</td>\n",
              "      <td>Neutral</td>\n",
              "      <td>It's fine. It's okay</td>\n",
              "      <td>0.40</td>\n",
              "      <td>Neutral</td>\n",
              "    </tr>\n",
              "  </tbody>\n",
              "</table>\n",
              "</div>\n",
              "    <div class=\"colab-df-buttons\">\n",
              "\n",
              "  <div class=\"colab-df-container\">\n",
              "    <button class=\"colab-df-convert\" onclick=\"convertToInteractive('df-bf8ebdcb-9429-456a-aec4-349700c30cac')\"\n",
              "            title=\"Convert this dataframe to an interactive table.\"\n",
              "            style=\"display:none;\">\n",
              "\n",
              "  <svg xmlns=\"http://www.w3.org/2000/svg\" height=\"24px\" viewBox=\"0 -960 960 960\">\n",
              "    <path d=\"M120-120v-720h720v720H120Zm60-500h600v-160H180v160Zm220 220h160v-160H400v160Zm0 220h160v-160H400v160ZM180-400h160v-160H180v160Zm440 0h160v-160H620v160ZM180-180h160v-160H180v160Zm440 0h160v-160H620v160Z\"/>\n",
              "  </svg>\n",
              "    </button>\n",
              "\n",
              "  <style>\n",
              "    .colab-df-container {\n",
              "      display:flex;\n",
              "      gap: 12px;\n",
              "    }\n",
              "\n",
              "    .colab-df-convert {\n",
              "      background-color: #E8F0FE;\n",
              "      border: none;\n",
              "      border-radius: 50%;\n",
              "      cursor: pointer;\n",
              "      display: none;\n",
              "      fill: #1967D2;\n",
              "      height: 32px;\n",
              "      padding: 0 0 0 0;\n",
              "      width: 32px;\n",
              "    }\n",
              "\n",
              "    .colab-df-convert:hover {\n",
              "      background-color: #E2EBFA;\n",
              "      box-shadow: 0px 1px 2px rgba(60, 64, 67, 0.3), 0px 1px 3px 1px rgba(60, 64, 67, 0.15);\n",
              "      fill: #174EA6;\n",
              "    }\n",
              "\n",
              "    .colab-df-buttons div {\n",
              "      margin-bottom: 4px;\n",
              "    }\n",
              "\n",
              "    [theme=dark] .colab-df-convert {\n",
              "      background-color: #3B4455;\n",
              "      fill: #D2E3FC;\n",
              "    }\n",
              "\n",
              "    [theme=dark] .colab-df-convert:hover {\n",
              "      background-color: #434B5C;\n",
              "      box-shadow: 0px 1px 3px 1px rgba(0, 0, 0, 0.15);\n",
              "      filter: drop-shadow(0px 1px 2px rgba(0, 0, 0, 0.3));\n",
              "      fill: #FFFFFF;\n",
              "    }\n",
              "  </style>\n",
              "\n",
              "    <script>\n",
              "      const buttonEl =\n",
              "        document.querySelector('#df-bf8ebdcb-9429-456a-aec4-349700c30cac button.colab-df-convert');\n",
              "      buttonEl.style.display =\n",
              "        google.colab.kernel.accessAllowed ? 'block' : 'none';\n",
              "\n",
              "      async function convertToInteractive(key) {\n",
              "        const element = document.querySelector('#df-bf8ebdcb-9429-456a-aec4-349700c30cac');\n",
              "        const dataTable =\n",
              "          await google.colab.kernel.invokeFunction('convertToInteractive',\n",
              "                                                    [key], {});\n",
              "        if (!dataTable) return;\n",
              "\n",
              "        const docLinkHtml = 'Like what you see? Visit the ' +\n",
              "          '<a target=\"_blank\" href=https://colab.research.google.com/notebooks/data_table.ipynb>data table notebook</a>'\n",
              "          + ' to learn more about interactive tables.';\n",
              "        element.innerHTML = '';\n",
              "        dataTable['output_type'] = 'display_data';\n",
              "        await google.colab.output.renderOutput(dataTable, element);\n",
              "        const docLink = document.createElement('div');\n",
              "        docLink.innerHTML = docLinkHtml;\n",
              "        element.appendChild(docLink);\n",
              "      }\n",
              "    </script>\n",
              "  </div>\n",
              "\n",
              "\n",
              "<div id=\"df-2135d9f9-852a-461e-85a6-a89d3c5d4c52\">\n",
              "  <button class=\"colab-df-quickchart\" onclick=\"quickchart('df-2135d9f9-852a-461e-85a6-a89d3c5d4c52')\"\n",
              "            title=\"Suggest charts\"\n",
              "            style=\"display:none;\">\n",
              "\n",
              "<svg xmlns=\"http://www.w3.org/2000/svg\" height=\"24px\"viewBox=\"0 0 24 24\"\n",
              "     width=\"24px\">\n",
              "    <g>\n",
              "        <path d=\"M19 3H5c-1.1 0-2 .9-2 2v14c0 1.1.9 2 2 2h14c1.1 0 2-.9 2-2V5c0-1.1-.9-2-2-2zM9 17H7v-7h2v7zm4 0h-2V7h2v10zm4 0h-2v-4h2v4z\"/>\n",
              "    </g>\n",
              "</svg>\n",
              "  </button>\n",
              "\n",
              "<style>\n",
              "  .colab-df-quickchart {\n",
              "      --bg-color: #E8F0FE;\n",
              "      --fill-color: #1967D2;\n",
              "      --hover-bg-color: #E2EBFA;\n",
              "      --hover-fill-color: #174EA6;\n",
              "      --disabled-fill-color: #AAA;\n",
              "      --disabled-bg-color: #DDD;\n",
              "  }\n",
              "\n",
              "  [theme=dark] .colab-df-quickchart {\n",
              "      --bg-color: #3B4455;\n",
              "      --fill-color: #D2E3FC;\n",
              "      --hover-bg-color: #434B5C;\n",
              "      --hover-fill-color: #FFFFFF;\n",
              "      --disabled-bg-color: #3B4455;\n",
              "      --disabled-fill-color: #666;\n",
              "  }\n",
              "\n",
              "  .colab-df-quickchart {\n",
              "    background-color: var(--bg-color);\n",
              "    border: none;\n",
              "    border-radius: 50%;\n",
              "    cursor: pointer;\n",
              "    display: none;\n",
              "    fill: var(--fill-color);\n",
              "    height: 32px;\n",
              "    padding: 0;\n",
              "    width: 32px;\n",
              "  }\n",
              "\n",
              "  .colab-df-quickchart:hover {\n",
              "    background-color: var(--hover-bg-color);\n",
              "    box-shadow: 0 1px 2px rgba(60, 64, 67, 0.3), 0 1px 3px 1px rgba(60, 64, 67, 0.15);\n",
              "    fill: var(--button-hover-fill-color);\n",
              "  }\n",
              "\n",
              "  .colab-df-quickchart-complete:disabled,\n",
              "  .colab-df-quickchart-complete:disabled:hover {\n",
              "    background-color: var(--disabled-bg-color);\n",
              "    fill: var(--disabled-fill-color);\n",
              "    box-shadow: none;\n",
              "  }\n",
              "\n",
              "  .colab-df-spinner {\n",
              "    border: 2px solid var(--fill-color);\n",
              "    border-color: transparent;\n",
              "    border-bottom-color: var(--fill-color);\n",
              "    animation:\n",
              "      spin 1s steps(1) infinite;\n",
              "  }\n",
              "\n",
              "  @keyframes spin {\n",
              "    0% {\n",
              "      border-color: transparent;\n",
              "      border-bottom-color: var(--fill-color);\n",
              "      border-left-color: var(--fill-color);\n",
              "    }\n",
              "    20% {\n",
              "      border-color: transparent;\n",
              "      border-left-color: var(--fill-color);\n",
              "      border-top-color: var(--fill-color);\n",
              "    }\n",
              "    30% {\n",
              "      border-color: transparent;\n",
              "      border-left-color: var(--fill-color);\n",
              "      border-top-color: var(--fill-color);\n",
              "      border-right-color: var(--fill-color);\n",
              "    }\n",
              "    40% {\n",
              "      border-color: transparent;\n",
              "      border-right-color: var(--fill-color);\n",
              "      border-top-color: var(--fill-color);\n",
              "    }\n",
              "    60% {\n",
              "      border-color: transparent;\n",
              "      border-right-color: var(--fill-color);\n",
              "    }\n",
              "    80% {\n",
              "      border-color: transparent;\n",
              "      border-right-color: var(--fill-color);\n",
              "      border-bottom-color: var(--fill-color);\n",
              "    }\n",
              "    90% {\n",
              "      border-color: transparent;\n",
              "      border-bottom-color: var(--fill-color);\n",
              "    }\n",
              "  }\n",
              "</style>\n",
              "\n",
              "  <script>\n",
              "    async function quickchart(key) {\n",
              "      const quickchartButtonEl =\n",
              "        document.querySelector('#' + key + ' button');\n",
              "      quickchartButtonEl.disabled = true;  // To prevent multiple clicks.\n",
              "      quickchartButtonEl.classList.add('colab-df-spinner');\n",
              "      try {\n",
              "        const charts = await google.colab.kernel.invokeFunction(\n",
              "            'suggestCharts', [key], {});\n",
              "      } catch (error) {\n",
              "        console.error('Error during call to suggestCharts:', error);\n",
              "      }\n",
              "      quickchartButtonEl.classList.remove('colab-df-spinner');\n",
              "      quickchartButtonEl.classList.add('colab-df-quickchart-complete');\n",
              "    }\n",
              "    (() => {\n",
              "      let quickchartButtonEl =\n",
              "        document.querySelector('#df-2135d9f9-852a-461e-85a6-a89d3c5d4c52 button');\n",
              "      quickchartButtonEl.style.display =\n",
              "        google.colab.kernel.accessAllowed ? 'block' : 'none';\n",
              "    })();\n",
              "  </script>\n",
              "</div>\n",
              "\n",
              "    </div>\n",
              "  </div>\n"
            ],
            "application/vnd.google.colaboratory.intrinsic+json": {
              "type": "dataframe",
              "summary": "{\n  \"name\": \"display(data\",\n  \"rows\": 5,\n  \"fields\": [\n    {\n      \"column\": \"Name\",\n      \"properties\": {\n        \"dtype\": \"string\",\n        \"num_unique_values\": 4,\n        \"samples\": [\n          \"Laptops Sony\",\n          \"Tables Dell\",\n          \"Gaming HP\"\n        ],\n        \"semantic_type\": \"\",\n        \"description\": \"\"\n      }\n    },\n    {\n      \"column\": \"Brand\",\n      \"properties\": {\n        \"dtype\": \"string\",\n        \"num_unique_values\": 4,\n        \"samples\": [\n          \"Sony\",\n          \"Dell\",\n          \"HP\"\n        ],\n        \"semantic_type\": \"\",\n        \"description\": \"\"\n      }\n    },\n    {\n      \"column\": \"Categories\",\n      \"properties\": {\n        \"dtype\": \"string\",\n        \"num_unique_values\": 3,\n        \"samples\": [\n          \"Computers\",\n          \"Audio\",\n          \"Furniture\"\n        ],\n        \"semantic_type\": \"\",\n        \"description\": \"\"\n      }\n    },\n    {\n      \"column\": \"PrimaryCategories\",\n      \"properties\": {\n        \"dtype\": \"string\",\n        \"num_unique_values\": 4,\n        \"samples\": [\n          \"Laptops\",\n          \"Tables\",\n          \"Gaming\"\n        ],\n        \"semantic_type\": \"\",\n        \"description\": \"\"\n      }\n    },\n    {\n      \"column\": \"Reviews.Date\",\n      \"properties\": {\n        \"dtype\": \"object\",\n        \"num_unique_values\": 5,\n        \"samples\": [\n          \"2024-05-26\",\n          \"2024-11-16\",\n          \"2024-01-18\"\n        ],\n        \"semantic_type\": \"\",\n        \"description\": \"\"\n      }\n    },\n    {\n      \"column\": \"Reviews.Text\",\n      \"properties\": {\n        \"dtype\": \"string\",\n        \"num_unique_values\": 5,\n        \"samples\": [\n          \"Worth every penny.\",\n          \"It's fine.\",\n          \"Exceeded expectations.\"\n        ],\n        \"semantic_type\": \"\",\n        \"description\": \"\"\n      }\n    },\n    {\n      \"column\": \"Reviews.Title\",\n      \"properties\": {\n        \"dtype\": \"string\",\n        \"num_unique_values\": 5,\n        \"samples\": [\n          \"Fantastic Buy\",\n          \"It's okay\",\n          \"Highly Recommend\"\n        ],\n        \"semantic_type\": \"\",\n        \"description\": \"\"\n      }\n    },\n    {\n      \"column\": \"Sentiment\",\n      \"properties\": {\n        \"dtype\": \"category\",\n        \"num_unique_values\": 2,\n        \"samples\": [\n          \"Positive\",\n          \"Neutral\"\n        ],\n        \"semantic_type\": \"\",\n        \"description\": \"\"\n      }\n    },\n    {\n      \"column\": \"Full_Review\",\n      \"properties\": {\n        \"dtype\": \"string\",\n        \"num_unique_values\": 5,\n        \"samples\": [\n          \"Worth every penny. Fantastic Buy\",\n          \"It's fine. It's okay\"\n        ],\n        \"semantic_type\": \"\",\n        \"description\": \"\"\n      }\n    },\n    {\n      \"column\": \"Sentiment_Score\",\n      \"properties\": {\n        \"dtype\": \"number\",\n        \"std\": 0.2814604767991414,\n        \"min\": 0.4,\n        \"max\": 0.94,\n        \"num_unique_values\": 5,\n        \"samples\": [\n          0.94,\n          0.4\n        ],\n        \"semantic_type\": \"\",\n        \"description\": \"\"\n      }\n    },\n    {\n      \"column\": \"Sentiment_Category\",\n      \"properties\": {\n        \"dtype\": \"category\",\n        \"num_unique_values\": 2,\n        \"samples\": [\n          \"Positive\",\n          \"Neutral\"\n        ],\n        \"semantic_type\": \"\",\n        \"description\": \"\"\n      }\n    }\n  ]\n}"
            }
          },
          "metadata": {}
        }
      ]
    },
    {
      "cell_type": "code",
      "source": [
        "print(\"\\nDataset Information:\")\n",
        "data.info()"
      ],
      "metadata": {
        "colab": {
          "base_uri": "https://localhost:8080/"
        },
        "id": "wQdTeml7riuI",
        "outputId": "bdeea3f4-50f6-4d8d-ea2c-bec15c36df09"
      },
      "execution_count": 4,
      "outputs": [
        {
          "output_type": "stream",
          "name": "stdout",
          "text": [
            "\n",
            "Dataset Information:\n",
            "<class 'pandas.core.frame.DataFrame'>\n",
            "RangeIndex: 2000 entries, 0 to 1999\n",
            "Data columns (total 11 columns):\n",
            " #   Column              Non-Null Count  Dtype  \n",
            "---  ------              --------------  -----  \n",
            " 0   Name                2000 non-null   object \n",
            " 1   Brand               2000 non-null   object \n",
            " 2   Categories          2000 non-null   object \n",
            " 3   PrimaryCategories   2000 non-null   object \n",
            " 4   Reviews.Date        2000 non-null   object \n",
            " 5   Reviews.Text        2000 non-null   object \n",
            " 6   Reviews.Title       2000 non-null   object \n",
            " 7   Sentiment           2000 non-null   object \n",
            " 8   Full_Review         2000 non-null   object \n",
            " 9   Sentiment_Score     2000 non-null   float64\n",
            " 10  Sentiment_Category  2000 non-null   object \n",
            "dtypes: float64(1), object(10)\n",
            "memory usage: 172.0+ KB\n"
          ]
        }
      ]
    },
    {
      "cell_type": "code",
      "source": [
        "print(\"\\nMissing Values:\")\n",
        "print(data.isnull().sum())"
      ],
      "metadata": {
        "colab": {
          "base_uri": "https://localhost:8080/"
        },
        "id": "TIscuP5Trr3J",
        "outputId": "ac9f7bbf-1455-4bca-bb64-c78ce681a918"
      },
      "execution_count": 5,
      "outputs": [
        {
          "output_type": "stream",
          "name": "stdout",
          "text": [
            "\n",
            "Missing Values:\n",
            "Name                  0\n",
            "Brand                 0\n",
            "Categories            0\n",
            "PrimaryCategories     0\n",
            "Reviews.Date          0\n",
            "Reviews.Text          0\n",
            "Reviews.Title         0\n",
            "Sentiment             0\n",
            "Full_Review           0\n",
            "Sentiment_Score       0\n",
            "Sentiment_Category    0\n",
            "dtype: int64\n"
          ]
        }
      ]
    },
    {
      "cell_type": "code",
      "source": [
        "print(\"\\nDescriptive Statistics:\")\n",
        "print(data.describe())\n",
        "\n",
        "print(\"\\nCorrelation Matrix:\")\n",
        "print(data.corr())"
      ],
      "metadata": {
        "colab": {
          "base_uri": "https://localhost:8080/",
          "height": 579
        },
        "id": "GtXAXBeWfzXk",
        "outputId": "3341d146-2bcf-4e27-f725-edfed459b9fc"
      },
      "execution_count": 7,
      "outputs": [
        {
          "output_type": "stream",
          "name": "stdout",
          "text": [
            "\n",
            "Descriptive Statistics:\n",
            "       Sentiment_Score\n",
            "count      2000.000000\n",
            "mean          0.538260\n",
            "std           0.284799\n",
            "min           0.000000\n",
            "25%           0.290000\n",
            "50%           0.560000\n",
            "75%           0.782500\n",
            "max           1.000000\n",
            "\n",
            "Correlation Matrix:\n"
          ]
        },
        {
          "output_type": "error",
          "ename": "ValueError",
          "evalue": "could not convert string to float: 'Gaming HP'",
          "traceback": [
            "\u001b[0;31m---------------------------------------------------------------------------\u001b[0m",
            "\u001b[0;31mValueError\u001b[0m                                Traceback (most recent call last)",
            "\u001b[0;32m<ipython-input-7-2ab31e042d55>\u001b[0m in \u001b[0;36m<cell line: 5>\u001b[0;34m()\u001b[0m\n\u001b[1;32m      3\u001b[0m \u001b[0;34m\u001b[0m\u001b[0m\n\u001b[1;32m      4\u001b[0m \u001b[0mprint\u001b[0m\u001b[0;34m(\u001b[0m\u001b[0;34m\"\\nCorrelation Matrix:\"\u001b[0m\u001b[0;34m)\u001b[0m\u001b[0;34m\u001b[0m\u001b[0;34m\u001b[0m\u001b[0m\n\u001b[0;32m----> 5\u001b[0;31m \u001b[0mprint\u001b[0m\u001b[0;34m(\u001b[0m\u001b[0mdata\u001b[0m\u001b[0;34m.\u001b[0m\u001b[0mcorr\u001b[0m\u001b[0;34m(\u001b[0m\u001b[0;34m)\u001b[0m\u001b[0;34m)\u001b[0m\u001b[0;34m\u001b[0m\u001b[0;34m\u001b[0m\u001b[0m\n\u001b[0m",
            "\u001b[0;32m/usr/local/lib/python3.10/dist-packages/pandas/core/frame.py\u001b[0m in \u001b[0;36mcorr\u001b[0;34m(self, method, min_periods, numeric_only)\u001b[0m\n\u001b[1;32m  11047\u001b[0m         \u001b[0mcols\u001b[0m \u001b[0;34m=\u001b[0m \u001b[0mdata\u001b[0m\u001b[0;34m.\u001b[0m\u001b[0mcolumns\u001b[0m\u001b[0;34m\u001b[0m\u001b[0;34m\u001b[0m\u001b[0m\n\u001b[1;32m  11048\u001b[0m         \u001b[0midx\u001b[0m \u001b[0;34m=\u001b[0m \u001b[0mcols\u001b[0m\u001b[0;34m.\u001b[0m\u001b[0mcopy\u001b[0m\u001b[0;34m(\u001b[0m\u001b[0;34m)\u001b[0m\u001b[0;34m\u001b[0m\u001b[0;34m\u001b[0m\u001b[0m\n\u001b[0;32m> 11049\u001b[0;31m         \u001b[0mmat\u001b[0m \u001b[0;34m=\u001b[0m \u001b[0mdata\u001b[0m\u001b[0;34m.\u001b[0m\u001b[0mto_numpy\u001b[0m\u001b[0;34m(\u001b[0m\u001b[0mdtype\u001b[0m\u001b[0;34m=\u001b[0m\u001b[0mfloat\u001b[0m\u001b[0;34m,\u001b[0m \u001b[0mna_value\u001b[0m\u001b[0;34m=\u001b[0m\u001b[0mnp\u001b[0m\u001b[0;34m.\u001b[0m\u001b[0mnan\u001b[0m\u001b[0;34m,\u001b[0m \u001b[0mcopy\u001b[0m\u001b[0;34m=\u001b[0m\u001b[0;32mFalse\u001b[0m\u001b[0;34m)\u001b[0m\u001b[0;34m\u001b[0m\u001b[0;34m\u001b[0m\u001b[0m\n\u001b[0m\u001b[1;32m  11050\u001b[0m \u001b[0;34m\u001b[0m\u001b[0m\n\u001b[1;32m  11051\u001b[0m         \u001b[0;32mif\u001b[0m \u001b[0mmethod\u001b[0m \u001b[0;34m==\u001b[0m \u001b[0;34m\"pearson\"\u001b[0m\u001b[0;34m:\u001b[0m\u001b[0;34m\u001b[0m\u001b[0;34m\u001b[0m\u001b[0m\n",
            "\u001b[0;32m/usr/local/lib/python3.10/dist-packages/pandas/core/frame.py\u001b[0m in \u001b[0;36mto_numpy\u001b[0;34m(self, dtype, copy, na_value)\u001b[0m\n\u001b[1;32m   1991\u001b[0m         \u001b[0;32mif\u001b[0m \u001b[0mdtype\u001b[0m \u001b[0;32mis\u001b[0m \u001b[0;32mnot\u001b[0m \u001b[0;32mNone\u001b[0m\u001b[0;34m:\u001b[0m\u001b[0;34m\u001b[0m\u001b[0;34m\u001b[0m\u001b[0m\n\u001b[1;32m   1992\u001b[0m             \u001b[0mdtype\u001b[0m \u001b[0;34m=\u001b[0m \u001b[0mnp\u001b[0m\u001b[0;34m.\u001b[0m\u001b[0mdtype\u001b[0m\u001b[0;34m(\u001b[0m\u001b[0mdtype\u001b[0m\u001b[0;34m)\u001b[0m\u001b[0;34m\u001b[0m\u001b[0;34m\u001b[0m\u001b[0m\n\u001b[0;32m-> 1993\u001b[0;31m         \u001b[0mresult\u001b[0m \u001b[0;34m=\u001b[0m \u001b[0mself\u001b[0m\u001b[0;34m.\u001b[0m\u001b[0m_mgr\u001b[0m\u001b[0;34m.\u001b[0m\u001b[0mas_array\u001b[0m\u001b[0;34m(\u001b[0m\u001b[0mdtype\u001b[0m\u001b[0;34m=\u001b[0m\u001b[0mdtype\u001b[0m\u001b[0;34m,\u001b[0m \u001b[0mcopy\u001b[0m\u001b[0;34m=\u001b[0m\u001b[0mcopy\u001b[0m\u001b[0;34m,\u001b[0m \u001b[0mna_value\u001b[0m\u001b[0;34m=\u001b[0m\u001b[0mna_value\u001b[0m\u001b[0;34m)\u001b[0m\u001b[0;34m\u001b[0m\u001b[0;34m\u001b[0m\u001b[0m\n\u001b[0m\u001b[1;32m   1994\u001b[0m         \u001b[0;32mif\u001b[0m \u001b[0mresult\u001b[0m\u001b[0;34m.\u001b[0m\u001b[0mdtype\u001b[0m \u001b[0;32mis\u001b[0m \u001b[0;32mnot\u001b[0m \u001b[0mdtype\u001b[0m\u001b[0;34m:\u001b[0m\u001b[0;34m\u001b[0m\u001b[0;34m\u001b[0m\u001b[0m\n\u001b[1;32m   1995\u001b[0m             \u001b[0mresult\u001b[0m \u001b[0;34m=\u001b[0m \u001b[0mnp\u001b[0m\u001b[0;34m.\u001b[0m\u001b[0masarray\u001b[0m\u001b[0;34m(\u001b[0m\u001b[0mresult\u001b[0m\u001b[0;34m,\u001b[0m \u001b[0mdtype\u001b[0m\u001b[0;34m=\u001b[0m\u001b[0mdtype\u001b[0m\u001b[0;34m)\u001b[0m\u001b[0;34m\u001b[0m\u001b[0;34m\u001b[0m\u001b[0m\n",
            "\u001b[0;32m/usr/local/lib/python3.10/dist-packages/pandas/core/internals/managers.py\u001b[0m in \u001b[0;36mas_array\u001b[0;34m(self, dtype, copy, na_value)\u001b[0m\n\u001b[1;32m   1692\u001b[0m                 \u001b[0marr\u001b[0m\u001b[0;34m.\u001b[0m\u001b[0mflags\u001b[0m\u001b[0;34m.\u001b[0m\u001b[0mwriteable\u001b[0m \u001b[0;34m=\u001b[0m \u001b[0;32mFalse\u001b[0m\u001b[0;34m\u001b[0m\u001b[0;34m\u001b[0m\u001b[0m\n\u001b[1;32m   1693\u001b[0m         \u001b[0;32melse\u001b[0m\u001b[0;34m:\u001b[0m\u001b[0;34m\u001b[0m\u001b[0;34m\u001b[0m\u001b[0m\n\u001b[0;32m-> 1694\u001b[0;31m             \u001b[0marr\u001b[0m \u001b[0;34m=\u001b[0m \u001b[0mself\u001b[0m\u001b[0;34m.\u001b[0m\u001b[0m_interleave\u001b[0m\u001b[0;34m(\u001b[0m\u001b[0mdtype\u001b[0m\u001b[0;34m=\u001b[0m\u001b[0mdtype\u001b[0m\u001b[0;34m,\u001b[0m \u001b[0mna_value\u001b[0m\u001b[0;34m=\u001b[0m\u001b[0mna_value\u001b[0m\u001b[0;34m)\u001b[0m\u001b[0;34m\u001b[0m\u001b[0;34m\u001b[0m\u001b[0m\n\u001b[0m\u001b[1;32m   1695\u001b[0m             \u001b[0;31m# The underlying data was copied within _interleave, so no need\u001b[0m\u001b[0;34m\u001b[0m\u001b[0;34m\u001b[0m\u001b[0m\n\u001b[1;32m   1696\u001b[0m             \u001b[0;31m# to further copy if copy=True or setting na_value\u001b[0m\u001b[0;34m\u001b[0m\u001b[0;34m\u001b[0m\u001b[0m\n",
            "\u001b[0;32m/usr/local/lib/python3.10/dist-packages/pandas/core/internals/managers.py\u001b[0m in \u001b[0;36m_interleave\u001b[0;34m(self, dtype, na_value)\u001b[0m\n\u001b[1;32m   1751\u001b[0m             \u001b[0;32melse\u001b[0m\u001b[0;34m:\u001b[0m\u001b[0;34m\u001b[0m\u001b[0;34m\u001b[0m\u001b[0m\n\u001b[1;32m   1752\u001b[0m                 \u001b[0marr\u001b[0m \u001b[0;34m=\u001b[0m \u001b[0mblk\u001b[0m\u001b[0;34m.\u001b[0m\u001b[0mget_values\u001b[0m\u001b[0;34m(\u001b[0m\u001b[0mdtype\u001b[0m\u001b[0;34m)\u001b[0m\u001b[0;34m\u001b[0m\u001b[0;34m\u001b[0m\u001b[0m\n\u001b[0;32m-> 1753\u001b[0;31m             \u001b[0mresult\u001b[0m\u001b[0;34m[\u001b[0m\u001b[0mrl\u001b[0m\u001b[0;34m.\u001b[0m\u001b[0mindexer\u001b[0m\u001b[0;34m]\u001b[0m \u001b[0;34m=\u001b[0m \u001b[0marr\u001b[0m\u001b[0;34m\u001b[0m\u001b[0;34m\u001b[0m\u001b[0m\n\u001b[0m\u001b[1;32m   1754\u001b[0m             \u001b[0mitemmask\u001b[0m\u001b[0;34m[\u001b[0m\u001b[0mrl\u001b[0m\u001b[0;34m.\u001b[0m\u001b[0mindexer\u001b[0m\u001b[0;34m]\u001b[0m \u001b[0;34m=\u001b[0m \u001b[0;36m1\u001b[0m\u001b[0;34m\u001b[0m\u001b[0;34m\u001b[0m\u001b[0m\n\u001b[1;32m   1755\u001b[0m \u001b[0;34m\u001b[0m\u001b[0m\n",
            "\u001b[0;31mValueError\u001b[0m: could not convert string to float: 'Gaming HP'"
          ]
        }
      ]
    },
    {
      "cell_type": "code",
      "source": [
        "for col in data.select_dtypes(include=['number']):\n",
        "    if data[col].isnull().any():\n",
        "        data[col] = data[col].fillna(data[col].mean())\n",
        ""
      ],
      "metadata": {
        "id": "OMc8XD8Nf44r"
      },
      "execution_count": 8,
      "outputs": []
    },
    {
      "cell_type": "code",
      "source": [
        "for col in data.select_dtypes(include=['object']):\n",
        "    if data[col].isnull().any():\n",
        "        data[col] = data[col].fillna(data[col].mode()[0])\n",
        "\n",
        "print(\"\\nMissing Values after imputation:\")\n",
        "print(data.isnull().sum())"
      ],
      "metadata": {
        "colab": {
          "base_uri": "https://localhost:8080/"
        },
        "id": "XwhlWDyGgAkD",
        "outputId": "b17ae882-704e-413c-cd9f-8474b57d6a37"
      },
      "execution_count": 9,
      "outputs": [
        {
          "output_type": "stream",
          "name": "stdout",
          "text": [
            "\n",
            "Missing Values after imputation:\n",
            "Name                  0\n",
            "Brand                 0\n",
            "Categories            0\n",
            "PrimaryCategories     0\n",
            "Reviews.Date          0\n",
            "Reviews.Text          0\n",
            "Reviews.Title         0\n",
            "Sentiment             0\n",
            "Full_Review           0\n",
            "Sentiment_Score       0\n",
            "Sentiment_Category    0\n",
            "dtype: int64\n"
          ]
        }
      ]
    },
    {
      "cell_type": "code",
      "source": [
        "print(\"\\nValue counts for a categorical column (replace 'column_name' with your column):\")\n",
        "if 'column_name' in data.columns:\n",
        "    print(data['column_name'].value_counts())"
      ],
      "metadata": {
        "colab": {
          "base_uri": "https://localhost:8080/"
        },
        "id": "BSchlx3jgCJJ",
        "outputId": "701da3b6-26a2-479e-ce91-f7e7613d7682"
      },
      "execution_count": 10,
      "outputs": [
        {
          "output_type": "stream",
          "name": "stdout",
          "text": [
            "\n",
            "Value counts for a categorical column (replace 'column_name' with your column):\n"
          ]
        }
      ]
    },
    {
      "cell_type": "code",
      "source": [
        "try:\n",
        "    categorical_cols = data.select_dtypes(include=['object', 'category']).columns\n",
        "    if len(categorical_cols) > 0:\n",
        "        first_categorical_col = categorical_cols[0]\n",
        "        print(f\"\\nValue counts for '{first_categorical_col}':\")\n",
        "        print(data[first_categorical_col].value_counts())\n",
        "    else:\n",
        "        print(\"\\nNo categorical columns found in the dataset.\")\n",
        "except FileNotFoundError:\n",
        "    print(f\"Error: File not found at {data_path}. Please check the file path.\")\n",
        "except pd.errors.ParserError:\n",
        "    print(f\"Error: Could not parse the CSV file at {data_path}. Please check the file format.\")\n",
        "except Exception as e:\n",
        "    print(f\"An unexpected error occurred: {e}\")\n"
      ],
      "metadata": {
        "colab": {
          "base_uri": "https://localhost:8080/"
        },
        "id": "jpE2p1XAgCOW",
        "outputId": "f5fb93cb-4a13-48ef-f3c4-dfddb4ae2fda"
      },
      "execution_count": 13,
      "outputs": [
        {
          "output_type": "stream",
          "name": "stdout",
          "text": [
            "\n",
            "Value counts for 'Name':\n",
            "Name\n",
            "Kitchen Samsung    32\n",
            "Gaming Apple       24\n",
            "Cameras Samsung    24\n",
            "Cleaning ASUS      22\n",
            "Beds Samsung       21\n",
            "                   ..\n",
            "Speakers Apple      8\n",
            "Cleaning Sony       7\n",
            "Tables Sony         7\n",
            "Chairs Apple        7\n",
            "Laptops LG          6\n",
            "Name: count, Length: 135, dtype: int64\n"
          ]
        }
      ]
    },
    {
      "cell_type": "code",
      "source": [
        "from collections import Counter\n",
        "\n",
        "if 'Reviews.Text' in data.columns:\n",
        "    data['word_counts'] = data['Reviews.Text'].apply(lambda x: len(str(x).split()))\n",
        "    word_counts_distribution = Counter(data['word_counts'])\n",
        "    print(\"\\nWord Count Distribution in Reviews:\")\n",
        "    print(word_counts_distribution)\n",
        "\n",
        "    most_common_counts = word_counts_distribution.most_common(10)\n",
        "    print(\"\\nMost Common Word Counts:\")\n",
        "    print(most_common_counts)\n",
        "else:\n",
        "    print(\"\\nError: 'reviews' column not found in the dataset.\")"
      ],
      "metadata": {
        "colab": {
          "base_uri": "https://localhost:8080/"
        },
        "id": "Y_UbRAaLgCV_",
        "outputId": "fcfad22e-00ea-4e9d-e00a-e2204b3845ce"
      },
      "execution_count": 18,
      "outputs": [
        {
          "output_type": "stream",
          "name": "stdout",
          "text": [
            "\n",
            "Word Count Distribution in Reviews:\n",
            "Counter({2: 1294, 4: 453, 3: 253})\n",
            "\n",
            "Most Common Word Counts:\n",
            "[(2, 1294), (4, 453), (3, 253)]\n"
          ]
        }
      ]
    },
    {
      "cell_type": "code",
      "source": [
        "import nltk\n",
        "from nltk.corpus import stopwords\n",
        "from nltk.stem import PorterStemmer\n",
        "import re\n",
        "\n",
        "nltk.download('stopwords')\n",
        "nltk.download('punkt')\n",
        "nltk.download('punkt_tab')"
      ],
      "metadata": {
        "colab": {
          "base_uri": "https://localhost:8080/"
        },
        "id": "2L4QfeW3gCbL",
        "outputId": "c1594ef7-7c07-482c-97ef-7550ad746476"
      },
      "execution_count": 22,
      "outputs": [
        {
          "output_type": "stream",
          "name": "stderr",
          "text": [
            "[nltk_data] Downloading package stopwords to /root/nltk_data...\n",
            "[nltk_data]   Package stopwords is already up-to-date!\n",
            "[nltk_data] Downloading package punkt to /root/nltk_data...\n",
            "[nltk_data]   Package punkt is already up-to-date!\n",
            "[nltk_data] Downloading package punkt_tab to /root/nltk_data...\n",
            "[nltk_data]   Unzipping tokenizers/punkt_tab.zip.\n"
          ]
        },
        {
          "output_type": "execute_result",
          "data": {
            "text/plain": [
              "True"
            ]
          },
          "metadata": {},
          "execution_count": 22
        }
      ]
    },
    {
      "cell_type": "code",
      "source": [
        "if 'Reviews.Text' in data.columns:\n",
        "    stop_words = set(stopwords.words('english'))\n",
        "    stemmer = PorterStemmer()\n",
        "\n",
        "    def preprocess_text(text):\n",
        "\n",
        "        text = re.sub(r'[^\\w\\s]', '', str(text).lower())\n",
        "        words = nltk.word_tokenize(text)\n",
        "        words = [stemmer.stem(w) for w in words if w not in stop_words and w.isalnum()]\n",
        "        return \" \".join(words)\n",
        "\n",
        "    data['Reviews.Text'] = data['Reviews.Text'].fillna(\"\")\n",
        "\n",
        "    data['processed_text'] = data['Reviews.Text'].apply(preprocess_text)\n",
        "else:\n",
        "    print(\"Error: 'Reviews.Text' column not found in the dataset.\")"
      ],
      "metadata": {
        "id": "2ojPgRZagCdY"
      },
      "execution_count": 23,
      "outputs": []
    },
    {
      "cell_type": "code",
      "source": [
        "data['char_count'] = data['processed_text'].apply(len)\n",
        "data['word_count'] = data['processed_text'].apply(lambda x: len(x.split()))\n"
      ],
      "metadata": {
        "id": "VygheyMIgCfj"
      },
      "execution_count": 24,
      "outputs": []
    },
    {
      "cell_type": "code",
      "source": [
        "data['avg_word_length'] = data['processed_text'].apply(lambda x: sum(len(word) for word in x.split()) / len(x.split()) if len(x.split()) > 0 else 0)"
      ],
      "metadata": {
        "id": "fMQ9M-HRjsV9"
      },
      "execution_count": 25,
      "outputs": []
    },
    {
      "cell_type": "code",
      "source": [
        "!pip install vaderSentiment"
      ],
      "metadata": {
        "colab": {
          "base_uri": "https://localhost:8080/"
        },
        "id": "YFpQTcGtkFLx",
        "outputId": "832c3cb6-3a7c-4db0-92eb-572e7fbeab9a"
      },
      "execution_count": 27,
      "outputs": [
        {
          "output_type": "stream",
          "name": "stdout",
          "text": [
            "Collecting vaderSentiment\n",
            "  Downloading vaderSentiment-3.3.2-py2.py3-none-any.whl.metadata (572 bytes)\n",
            "Requirement already satisfied: requests in /usr/local/lib/python3.10/dist-packages (from vaderSentiment) (2.32.3)\n",
            "Requirement already satisfied: charset-normalizer<4,>=2 in /usr/local/lib/python3.10/dist-packages (from requests->vaderSentiment) (3.4.0)\n",
            "Requirement already satisfied: idna<4,>=2.5 in /usr/local/lib/python3.10/dist-packages (from requests->vaderSentiment) (3.10)\n",
            "Requirement already satisfied: urllib3<3,>=1.21.1 in /usr/local/lib/python3.10/dist-packages (from requests->vaderSentiment) (2.2.3)\n",
            "Requirement already satisfied: certifi>=2017.4.17 in /usr/local/lib/python3.10/dist-packages (from requests->vaderSentiment) (2024.8.30)\n",
            "Downloading vaderSentiment-3.3.2-py2.py3-none-any.whl (125 kB)\n",
            "\u001b[?25l   \u001b[90m━━━━━━━━━━━━━━━━━━━━━━━━━━━━━━━━━━━━━━━━\u001b[0m \u001b[32m0.0/126.0 kB\u001b[0m \u001b[31m?\u001b[0m eta \u001b[36m-:--:--\u001b[0m\r\u001b[2K   \u001b[90m━━━━━━━━━━━━━━━━━━━━━━━━━━━━━━━━━━━━━━━━\u001b[0m \u001b[32m126.0/126.0 kB\u001b[0m \u001b[31m12.3 MB/s\u001b[0m eta \u001b[36m0:00:00\u001b[0m\n",
            "\u001b[?25hInstalling collected packages: vaderSentiment\n",
            "Successfully installed vaderSentiment-3.3.2\n"
          ]
        }
      ]
    },
    {
      "cell_type": "code",
      "source": [
        "from vaderSentiment.vaderSentiment import SentimentIntensityAnalyzer\n",
        "analyzer = SentimentIntensityAnalyzer()\n",
        "data['vader_compound'] = data['Reviews.Text'].apply(lambda x: analyzer.polarity_scores(x)['compound'])"
      ],
      "metadata": {
        "id": "4XthiUQzjv7k"
      },
      "execution_count": 28,
      "outputs": []
    },
    {
      "cell_type": "code",
      "source": [
        "print(data[['Reviews.Text', 'processed_text', 'char_count', 'word_count', 'avg_word_length', 'vader_compound']].head())"
      ],
      "metadata": {
        "colab": {
          "base_uri": "https://localhost:8080/"
        },
        "id": "medSNpEwkJHy",
        "outputId": "0237329f-bc3b-4f46-f9a5-1c6d24d6a5a3"
      },
      "execution_count": 31,
      "outputs": [
        {
          "output_type": "stream",
          "name": "stdout",
          "text": [
            "             Reviews.Text     processed_text  char_count  word_count  \\\n",
            "0    Mediocre experience.     mediocr experi          14           2   \n",
            "1      Worth every penny.  worth everi penni          17           3   \n",
            "2  Exceeded expectations.      exceed expect          13           2   \n",
            "3        Amazing quality!       amaz qualiti          12           2   \n",
            "4              It's fine.               fine           4           1   \n",
            "\n",
            "   avg_word_length  vader_compound  \n",
            "0              6.5          0.0000  \n",
            "1              5.0          0.2263  \n",
            "2              6.0          0.0000  \n",
            "3              5.5          0.6239  \n",
            "4              4.0          0.2023  \n"
          ]
        }
      ]
    },
    {
      "cell_type": "code",
      "source": [
        "# prompt:  Train a Sentiment Prediction Model\n",
        "\n",
        "import pandas as pd\n",
        "\n",
        "\n",
        "# Assuming 'data' DataFrame from the previous code block is available\n",
        "\n",
        "# Prepare the data for sentiment prediction\n"
      ],
      "metadata": {
        "id": "6J9XGz7KkSrB"
      },
      "execution_count": null,
      "outputs": []
    },
    {
      "cell_type": "code",
      "source": [
        "from sklearn.model_selection import train_test_split\n",
        "from sklearn.feature_extraction.text import TfidfVectorizer\n",
        "from sklearn.linear_model import LogisticRegression\n",
        "from sklearn.metrics import accuracy_score, classification_report"
      ],
      "metadata": {
        "id": "PCAzknL8kZGD"
      },
      "execution_count": 32,
      "outputs": []
    },
    {
      "cell_type": "code",
      "source": [
        "if 'Sentiment_Category' in data.columns and 'Full_Review' in data.columns:\n",
        "\n",
        "    X = data['Full_Review']\n",
        "    y = data['Sentiment_Category']\n",
        "\n",
        "    X_train, X_test, y_train, y_test = train_test_split(X, y, test_size=0.2, random_state=42)\n",
        "\n",
        "    vectorizer = TfidfVectorizer()\n",
        "    X_train_vec = vectorizer.fit_transform(X_train)\n",
        "    X_test_vec = vectorizer.transform(X_test)\n",
        "\n",
        "    model = LogisticRegression(max_iter=1000)\n",
        "    model.fit(X_train_vec, y_train)\n",
        "\n",
        "    y_pred = model.predict(X_test_vec)\n",
        "\n",
        "    accuracy = accuracy_score(y_test, y_pred)\n",
        "    print(f\"Accuracy: {accuracy}\")\n",
        "    print(classification_report(y_test, y_pred))\n",
        "\n",
        "else:\n",
        "    print(\"Error: 'Sentiment_Category' or 'Full_Review' columns not found in the dataset.\")"
      ],
      "metadata": {
        "colab": {
          "base_uri": "https://localhost:8080/"
        },
        "id": "wZEioKXWkZJJ",
        "outputId": "084f090f-2773-415b-c3ee-d3c7585958cf"
      },
      "execution_count": 35,
      "outputs": [
        {
          "output_type": "stream",
          "name": "stdout",
          "text": [
            "Accuracy: 1.0\n",
            "              precision    recall  f1-score   support\n",
            "\n",
            "    Negative       1.00      1.00      1.00       128\n",
            "     Neutral       1.00      1.00      1.00       129\n",
            "    Positive       1.00      1.00      1.00       143\n",
            "\n",
            "    accuracy                           1.00       400\n",
            "   macro avg       1.00      1.00      1.00       400\n",
            "weighted avg       1.00      1.00      1.00       400\n",
            "\n"
          ]
        }
      ]
    },
    {
      "cell_type": "code",
      "source": [
        "def aspect_based_sentiment(text, aspect):\n",
        "\n",
        "    tokens = nltk.word_tokenize(text)\n",
        "    try:\n",
        "        aspect_index = tokens.index(aspect)\n",
        "    except ValueError:\n",
        "        return 'Neutral'\n",
        "    window_size = 5\n",
        "    start = max(0, aspect_index - window_size)\n",
        "    end = min(len(tokens), aspect_index + window_size + 1)\n",
        "    context = tokens[start:end]\n",
        "\n",
        "    analyzer = SentimentIntensityAnalyzer()\n",
        "    scores = analyzer.polarity_scores(\" \".join(context))\n",
        "    compound_score = scores['compound']\n",
        "\n",
        "    if compound_score >= 0.05:\n",
        "        return 'Positive'\n",
        "    elif compound_score <= -0.05:\n",
        "        return 'Negative'\n",
        "    else:\n",
        "        return 'Neutral'\n",
        "\n",
        "if 'processed_text' in data.columns:\n",
        "  data['aspect_sentiment'] = data['processed_text'].apply(lambda x: aspect_based_sentiment(x, 'food'))\n",
        "  print(data[['processed_text', 'aspect_sentiment']].head())\n",
        "else:\n",
        "  print(\"Error: 'processed_text' column not found. Make sure to run the preprocessing steps first.\")"
      ],
      "metadata": {
        "colab": {
          "base_uri": "https://localhost:8080/"
        },
        "id": "JAKhzYhFkZUs",
        "outputId": "ae578601-5378-44ce-b500-cf785c6d3468"
      },
      "execution_count": 36,
      "outputs": [
        {
          "output_type": "stream",
          "name": "stdout",
          "text": [
            "      processed_text aspect_sentiment\n",
            "0     mediocr experi          Neutral\n",
            "1  worth everi penni          Neutral\n",
            "2      exceed expect          Neutral\n",
            "3       amaz qualiti          Neutral\n",
            "4               fine          Neutral\n"
          ]
        }
      ]
    },
    {
      "cell_type": "code",
      "source": [
        "new_data_path = \"/content/amazon_reviews_sample_50.csv\"\n",
        "try:\n",
        "    new_data = pd.read_csv(new_data_path)\n",
        "\n",
        "    if 'Reviews.Text' in new_data.columns:\n",
        "        new_data['Reviews.Text'] = new_data['Reviews.Text'].fillna(\"\")\n",
        "        new_data['processed_text'] = new_data['Reviews.Text'].apply(preprocess_text)\n",
        "\n",
        "        new_data['char_count'] = new_data['processed_text'].apply(len)\n",
        "        new_data['word_count'] = new_data['processed_text'].apply(lambda x: len(x.split()))\n",
        "        new_data['avg_word_length'] = new_data['processed_text'].apply(lambda x: sum(len(word) for word in x.split()) / len(x.split()) if len(x.split()) > 0 else 0)\n",
        "        new_data['vader_compound'] = new_data['Reviews.Text'].apply(lambda x: analyzer.polarity_scores(x)['compound'])\n",
        "\n",
        "        if 'Full_Review' in new_data.columns:\n",
        "            new_X = new_data['Full_Review']\n",
        "            new_X_vec = vectorizer.transform(new_X)\n",
        "\n",
        "            new_y_pred = model.predict(new_X_vec)\n",
        "            new_data['predicted_sentiment'] = new_y_pred\n",
        "\n",
        "            print(\"Predictions on new data:\")\n",
        "            print(new_data[['Full_Review', 'predicted_sentiment']].head())\n",
        "\n",
        "            new_data['aspect_sentiment'] = new_data['processed_text'].apply(lambda x: aspect_based_sentiment(x, 'food'))\n",
        "            print(\"\\nAspect-Based Sentiment Analysis on new data:\")\n",
        "            print(new_data[['processed_text', 'aspect_sentiment']].head())\n",
        "        else:\n",
        "            print(\"Error: 'Full_Review' column not found in the new dataset.\")\n",
        "\n",
        "    else:\n",
        "        print(\"Error: 'Reviews.Text' column not found in the new dataset.\")\n",
        "\n",
        "except FileNotFoundError:\n",
        "    print(f\"Error: File not found at {new_data_path}\")\n",
        "except Exception as e:\n",
        "    print(f\"An error occurred: {e}\")"
      ],
      "metadata": {
        "colab": {
          "base_uri": "https://localhost:8080/"
        },
        "id": "PyXmxQ4EkZby",
        "outputId": "f0d2b2d1-794d-4d1e-db3a-8bfce2ae12ae"
      },
      "execution_count": 39,
      "outputs": [
        {
          "output_type": "stream",
          "name": "stdout",
          "text": [
            "Predictions on new data:\n",
            "                               Full_Review predicted_sentiment\n",
            "0       Not bad, not great. Decent Quality             Neutral\n",
            "1                     It's fine. It's okay             Neutral\n",
            "2  Exceeded expectations. Highly Recommend            Positive\n",
            "3                     It's fine. It's okay             Neutral\n",
            "4       Not worth the price. Not Impressed            Negative\n",
            "\n",
            "Aspect-Based Sentiment Analysis on new data:\n",
            "  processed_text aspect_sentiment\n",
            "0      bad great          Neutral\n",
            "1           fine          Neutral\n",
            "2  exceed expect          Neutral\n",
            "3           fine          Neutral\n",
            "4    worth price          Neutral\n"
          ]
        }
      ]
    }
  ]
}